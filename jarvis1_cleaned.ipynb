{
  "cells": [
    {
      "cell_type": "markdown",
      "metadata": {
        "id": "NUvNyq3S22eK"
      },
      "source": []
    },
    {
      "cell_type": "code",
      "execution_count": 1,
      "metadata": {
        "colab": {
          "base_uri": "https://localhost:8080/"
        },
        "id": "cVqNvUYSr-Us",
        "outputId": "3447af8c-1e84-449b-b5f0-8d4f47a8ee24"
      },
      "outputs": [
        {
          "name": "stdout",
          "output_type": "stream",
          "text": [
            "\u001b[?25l   \u001b[90m\u2501\u2501\u2501\u2501\u2501\u2501\u2501\u2501\u2501\u2501\u2501\u2501\u2501\u2501\u2501\u2501\u2501\u2501\u2501\u2501\u2501\u2501\u2501\u2501\u2501\u2501\u2501\u2501\u2501\u2501\u2501\u2501\u2501\u2501\u2501\u2501\u2501\u2501\u2501\u2501\u001b[0m \u001b[32m0.0/98.2 kB\u001b[0m \u001b[31m?\u001b[0m eta \u001b[36m-:--:--\u001b[0m\r\u001b[2K   \u001b[90m\u2501\u2501\u2501\u2501\u2501\u2501\u2501\u2501\u2501\u2501\u2501\u2501\u2501\u2501\u2501\u2501\u2501\u2501\u2501\u2501\u2501\u2501\u2501\u2501\u2501\u2501\u2501\u2501\u2501\u2501\u2501\u2501\u2501\u2501\u2501\u2501\u2501\u2501\u2501\u2501\u001b[0m \u001b[32m98.2/98.2 kB\u001b[0m \u001b[31m5.7 MB/s\u001b[0m eta \u001b[36m0:00:00\u001b[0m\n",
            "\u001b[?25h"
          ]
        }
      ],
      "source": [
        "!pip install transformers gtts gradio --quiet\n"
      ]
    },
    {
      "cell_type": "code",
      "execution_count": 2,
      "metadata": {
        "id": "eQxm3AbNr-Z8"
      },
      "outputs": [],
      "source": [
        "from transformers import AutoModelForSeq2SeqLM, AutoTokenizer\n",
        "from gtts import gTTS\n",
        "import gradio as gr\n"
      ]
    },
    {
      "cell_type": "code",
      "execution_count": 3,
      "metadata": {
        "colab": {
          "base_uri": "https://localhost:8080/",
          "height": 370,
          "referenced_widgets": [
            "222e2d0a38e14aa1b3d903d3cd22b055",
            "a7cabb82cda349ed8482f5df6f404bf9",
            "c31933c5b9894215938306242266a7c9",
            "116db79c4ef54967b03267efb7524ace",
            "98cc9735aa59434e85116b92a1acdf8a",
            "3e140812e187473092b722bd0b92d2ab",
            "d4c9eafe22454bf59feaac3a4cb26ab5",
            "9a4e328db1274b758931f564ebcc5d62",
            "4d6f27ed05bb4d47b681def0579f4baf",
            "41f8cfdaefd649dea01060b72c696c9f",
            "1cff54bdb9304b5cba473c8c978d0135",
            "2d659e0768d542558dc1faee494fc4b7",
            "93cc1cd6ec7d44f99cc8b34a31d4303c",
            "8fce72202d2349ca9ee2301ceab8b62d",
            "b53c3f4b74b54b09bd9c42d66db88f87",
            "14d788c9af9f42e081b390d384c6fda5",
            "9bb29c55283c4d77ae2bddbdec96e6f5",
            "cdcfcf2acfb24a8caaa255b4d3549a8b",
            "61a8ed771f094e9194ad278f63beb3b3",
            "5264cb180fea4fd58330b46199730af9",
            "761a31b4ff894766ad2e78dd943c8a12",
            "1420055d43e247e4b8684873fceec35f",
            "9ef4cc925e4b47d3b1fbd19d22649dc8",
            "427fe239033e429cb1f089dd5ba72c4e",
            "608ec7fac4804d4196686ca129da1265",
            "c0e4ee0f5c2d409ba79bdc3678ea1fcd",
            "82ac7fd4632e4abfaedc52b2a7eb738a",
            "6ed1cc2d49b04b82b4482e94bcbaa22b",
            "28c13d7e0a60447f9095de2495163f4f",
            "c6c72b692ebd452c86002793486f25cb",
            "51fd20f9f53f4e0fb62c400c944f1df3",
            "c995e3238ec84977bc230d5868bd5e0e",
            "de3031544f6444779ed7d4ea47aa084e",
            "c9db43eac7fb4c9d8664c69c95e411be",
            "279628c25cc64396960e4fa8f080f4a8",
            "09d339eb4ddb49f9a549637aade6aeee",
            "ee90530628374703abb4cb8bbc453526",
            "07eaab2f06c84917ae50f8c4c88079b6",
            "2b2ec0f4af3f4d2f8cdc29331adca223",
            "103c128727834909a1fcef0b4766875f",
            "cc57d9812ecd48d9bfe09ba066a54976",
            "ec1ed7f06acc4f37a4947fd22af6a0cd",
            "1d943dd847ee4689b79a23a16f16f2bb",
            "c31aba26d397491ebb38ef48e5ad7b1a",
            "69ea1527dbab475eac4b9b5021661ae5",
            "e70db1ff08074c338c1508d957c6e2eb",
            "279d6ebc51ea484e994c034f42e4488b",
            "010906f35ecd43e4966b7be9b2b98bb9",
            "ba398440cf09446abcbf76939fd8b400",
            "9ba1d587422f4e41993f42fd7ffe88c6",
            "1d02d6417373425cb0488d8a52908e4e",
            "2229d7ba938f4eb2b8a72c995218b579",
            "1b2108c385664c5bbb0c5641607a4439",
            "077fe594df8846569ab6b327a89dfda7",
            "2d7bbf45c63c49e4baa2486f2dcb2b62",
            "6208ad23254a4aff86a552905ae99574",
            "5437b3be503d4eb6954170faa35f9ce3",
            "257f9ebbfdac49a8807f9b9900c85536",
            "79b491fe31754078b9fcdd4d3404fb54",
            "d6d1b61b719d4f2eaa8acf3fc0ce5683",
            "b0c6b3606a9e4c9a9edc10d58c2c20aa",
            "e9f9e1e4109a4a088210bdb6cd85b733",
            "b5088f1b5422421ba42b8fc3bd8d61b4",
            "eead3e57862c47a191ecc5c5c764949f",
            "5e3cf949716b4c918a0411129b19fa64",
            "fb762e1f73d942e7ba3f6caceeb0a6dd",
            "e6662692b9774f7bbb21e82b03d9eb9b",
            "cdeb9c04138a4734acdf3962d4c92952",
            "adc84b4a851346e48082f196498dd0c6",
            "92a7295e0b6248758f0fcef9f561720d",
            "9e7a7da72a0549a08ef2ca970ce65109",
            "d463a022556549af91beb82e617ef4a8",
            "3ba02fa26e684b10b69dcbc0820f7ec7",
            "e924abb50e844ea2984ef4e042d8370a",
            "429c7f2481914200ab0d602dc17cd09f",
            "756f71b543434f169aeb94c501258c81",
            "22a899af74e84a3ba0d602bcb814d93f"
          ]
        },
        "id": "QokKdvOgr-cs",
        "outputId": "251e7620-aa82-47c2-84e5-41e7e1af8207"
      },
      "outputs": [
        {
          "name": "stderr",
          "output_type": "stream",
          "text": [
            "/usr/local/lib/python3.11/dist-packages/huggingface_hub/utils/_auth.py:94: UserWarning: \n",
            "The secret `HF_TOKEN` does not exist in your Colab secrets.\n",
            "To authenticate with the Hugging Face Hub, create a token in your settings tab (https://huggingface.co/settings/tokens), set it as secret in your Google Colab and restart your session.\n",
            "You will be able to reuse this secret in all of your notebooks.\n",
            "Please note that authentication is recommended but still optional to access public models or datasets.\n",
            "  warnings.warn(\n"
          ]
        },
        {
          "data": {
            "application/vnd.jupyter.widget-view+json": {
              "model_id": "222e2d0a38e14aa1b3d903d3cd22b055",
              "version_major": 2,
              "version_minor": 0
            },
            "text/plain": [
              "tokenizer_config.json: 0.00B [00:00, ?B/s]"
            ]
          },
          "metadata": {},
          "output_type": "display_data"
        },
        {
          "data": {
            "application/vnd.jupyter.widget-view+json": {
              "model_id": "2d659e0768d542558dc1faee494fc4b7",
              "version_major": 2,
              "version_minor": 0
            },
            "text/plain": [
              "spiece.model:   0%|          | 0.00/792k [00:00<?, ?B/s]"
            ]
          },
          "metadata": {},
          "output_type": "display_data"
        },
        {
          "data": {
            "application/vnd.jupyter.widget-view+json": {
              "model_id": "9ef4cc925e4b47d3b1fbd19d22649dc8",
              "version_major": 2,
              "version_minor": 0
            },
            "text/plain": [
              "tokenizer.json: 0.00B [00:00, ?B/s]"
            ]
          },
          "metadata": {},
          "output_type": "display_data"
        },
        {
          "data": {
            "application/vnd.jupyter.widget-view+json": {
              "model_id": "c9db43eac7fb4c9d8664c69c95e411be",
              "version_major": 2,
              "version_minor": 0
            },
            "text/plain": [
              "special_tokens_map.json: 0.00B [00:00, ?B/s]"
            ]
          },
          "metadata": {},
          "output_type": "display_data"
        },
        {
          "data": {
            "application/vnd.jupyter.widget-view+json": {
              "model_id": "69ea1527dbab475eac4b9b5021661ae5",
              "version_major": 2,
              "version_minor": 0
            },
            "text/plain": [
              "config.json:   0%|          | 0.00/662 [00:00<?, ?B/s]"
            ]
          },
          "metadata": {},
          "output_type": "display_data"
        },
        {
          "data": {
            "application/vnd.jupyter.widget-view+json": {
              "model_id": "6208ad23254a4aff86a552905ae99574",
              "version_major": 2,
              "version_minor": 0
            },
            "text/plain": [
              "model.safetensors:   0%|          | 0.00/3.13G [00:00<?, ?B/s]"
            ]
          },
          "metadata": {},
          "output_type": "display_data"
        },
        {
          "data": {
            "application/vnd.jupyter.widget-view+json": {
              "model_id": "e6662692b9774f7bbb21e82b03d9eb9b",
              "version_major": 2,
              "version_minor": 0
            },
            "text/plain": [
              "generation_config.json:   0%|          | 0.00/147 [00:00<?, ?B/s]"
            ]
          },
          "metadata": {},
          "output_type": "display_data"
        }
      ],
      "source": [
        "model_name = \"google/flan-t5-large\"\n",
        "\n",
        "tokenizer = AutoTokenizer.from_pretrained(model_name)\n",
        "model = AutoModelForSeq2SeqLM.from_pretrained(model_name)\n"
      ]
    },
    {
      "cell_type": "code",
      "execution_count": 4,
      "metadata": {
        "id": "ARMDX_5hr-fM"
      },
      "outputs": [],
      "source": [
        "def generate_response(user_input):\n",
        "    # Tokenize input\n",
        "    inputs = tokenizer(user_input, return_tensors=\"pt\")\n",
        "\n",
        "    # Generate response\n",
        "    outputs = model.generate(**inputs, max_new_tokens=100)\n",
        "    reply = tokenizer.decode(outputs[0], skip_special_tokens=True)\n",
        "\n",
        "    # Convert response to speech\n",
        "    tts = gTTS(reply)\n",
        "    tts.save(\"reply.mp3\")\n",
        "\n",
        "    return reply, \"reply.mp3\"\n"
      ]
    },
    {
      "cell_type": "code",
      "execution_count": 5,
      "metadata": {
        "id": "E0MiMn10r-hc"
      },
      "outputs": [],
      "source": [
        "interface = gr.Interface(\n",
        "    fn=generate_response,\n",
        "    inputs=gr.Textbox(label=\"Ask Jarvis\"),\n",
        "    outputs=[\n",
        "        gr.Textbox(label=\"Bot Response\"),\n",
        "        gr.Audio(label=\"Voice Reply\", type=\"filepath\")\n",
        "    ],\n",
        "    title=\"\ud83e\udde0 Jarvis Voice Chatbot (No Login Needed)\",\n",
        "    description=\"Ask anything and get a spoken answer!\"\n",
        ")\n"
      ]
    },
    {
      "cell_type": "code",
      "execution_count": 6,
      "metadata": {
        "colab": {
          "base_uri": "https://localhost:8080/",
          "height": 650
        },
        "id": "p_Kq7vkAr-j-",
        "outputId": "2bab1d96-b035-41f6-d4e2-5c8c44b23d5e"
      },
      "outputs": [
        {
          "name": "stdout",
          "output_type": "stream",
          "text": [
            "It looks like you are running Gradio on a hosted Jupyter notebook, which requires `share=True`. Automatically setting `share=True` (you can turn this off by setting `share=False` in `launch()` explicitly).\n",
            "\n",
            "Colab notebook detected. To show errors in colab notebook, set debug=True in launch()\n",
            "* Running on public URL: https://92a7171526cb90ad15.gradio.live\n",
            "\n",
            "This share link expires in 1 week. For free permanent hosting and GPU upgrades, run `gradio deploy` from the terminal in the working directory to deploy to Hugging Face Spaces (https://huggingface.co/spaces)\n"
          ]
        },
        {
          "data": {
            "text/html": [
              "<div><iframe src=\"https://92a7171526cb90ad15.gradio.live\" width=\"100%\" height=\"500\" allow=\"autoplay; camera; microphone; clipboard-read; clipboard-write;\" frameborder=\"0\" allowfullscreen></iframe></div>"
            ],
            "text/plain": [
              "<IPython.core.display.HTML object>"
            ]
          },
          "metadata": {},
          "output_type": "display_data"
        },
        {
          "data": {
            "text/plain": []
          },
          "execution_count": 6,
          "metadata": {},
          "output_type": "execute_result"
        }
      ],
      "source": [
        "interface.launch()\n"
      ]
    }
  ],
  "metadata": {
    "colab": {
      "provenance": []
    },
    "kernelspec": {
      "display_name": "Python 3",
      "name": "python3"
    },
    "language_info": {
      "name": "python"
    }
  },
  "nbformat": 4,
  "nbformat_minor": 0
}